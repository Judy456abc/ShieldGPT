{
 "cells": [
  {
   "cell_type": "code",
   "execution_count": 12,
   "metadata": {},
   "outputs": [
    {
     "name": "stdout",
     "output_type": "stream",
     "text": [
      "noise: tensor([0.8823, 0.9150, 0.3829, 0.9593])\n",
      "ids_shuffle: tensor([2, 0, 1, 3])\n",
      "ids_restore: tensor([1, 2, 0, 3])\n",
      "ids_keep: tensor([2, 0])\n",
      "x_masked: tensor([33, 11])\n",
      "mask: tensor([0., 1., 0., 1.])\n"
     ]
    }
   ],
   "source": [
    "import torch\n",
    "\n",
    "# set random seed\n",
    "torch.manual_seed(42)\n",
    "\n",
    "x = torch.tensor([11, 22, 33, 44])\n",
    "noise = torch.rand(4)\n",
    "len_keep = 2\n",
    "print(f\"noise: {noise}\")\n",
    "ids_shuffle = torch.argsort(noise)\n",
    "print(f\"ids_shuffle: {ids_shuffle}\")\n",
    "ids_restore = torch.argsort(ids_shuffle)\n",
    "print(f\"ids_restore: {ids_restore}\")\n",
    "ids_keep = ids_shuffle[:len_keep]\n",
    "print(f\"ids_keep: {ids_keep}\")\n",
    "x_masked = torch.gather(x, dim=0, index=ids_keep)\n",
    "print(f\"x_masked: {x_masked}\")\n",
    "mask = torch.ones(4)\n",
    "mask[:len_keep] = 0\n",
    "mask = torch.gather(mask, dim=0, index=ids_restore)\n",
    "print(f\"mask: {mask}\")"
   ]
  },
  {
   "cell_type": "code",
   "execution_count": 2,
   "metadata": {},
   "outputs": [
    {
     "name": "stdout",
     "output_type": "stream",
     "text": [
      "True\n",
      "[11, 22, 33, 44]\n"
     ]
    }
   ],
   "source": [
    "import numpy as np\n",
    "\n",
    "x = np.array([11, 22, 33, 44])\n",
    "print(isinstance(x, np.ndarray))\n",
    "print(x.tolist())"
   ]
  }
 ],
 "metadata": {
  "kernelspec": {
   "display_name": "LLM",
   "language": "python",
   "name": "python3"
  },
  "language_info": {
   "codemirror_mode": {
    "name": "ipython",
    "version": 3
   },
   "file_extension": ".py",
   "mimetype": "text/x-python",
   "name": "python",
   "nbconvert_exporter": "python",
   "pygments_lexer": "ipython3",
   "version": "3.9.18"
  }
 },
 "nbformat": 4,
 "nbformat_minor": 2
}
